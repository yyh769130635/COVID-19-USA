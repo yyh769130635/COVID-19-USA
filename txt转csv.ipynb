{
 "cells": [
  {
   "cell_type": "code",
   "execution_count": 2,
   "metadata": {},
   "outputs": [],
   "source": [
    "import pandas as pd\n",
    " \n",
    "#.csv->.txt\n",
    "data = pd.read_csv('./data/us-counties.csv')\n",
    "with open('./data/us-countries.txt','a+',encoding='utf-8') as f:\n",
    "    for line in data.values:\n",
    "        f.write((str(line[0])+'\\t'+str(line[1])+'\\t'\n",
    "                +str(line[2])+'\\t'+str(line[3])+'\\t'+str(line[4])+'\\n'))"
   ]
  },
  {
   "cell_type": "code",
   "execution_count": null,
   "metadata": {},
   "outputs": [],
   "source": []
  }
 ],
 "metadata": {
  "kernelspec": {
   "display_name": "Python 3",
   "language": "python",
   "name": "python3"
  },
  "language_info": {
   "codemirror_mode": {
    "name": "ipython",
    "version": 3
   },
   "file_extension": ".py",
   "mimetype": "text/x-python",
   "name": "python",
   "nbconvert_exporter": "python",
   "pygments_lexer": "ipython3",
   "version": "3.7.1"
  }
 },
 "nbformat": 4,
 "nbformat_minor": 2
}
