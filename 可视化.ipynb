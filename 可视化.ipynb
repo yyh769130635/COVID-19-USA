{
 "cells": [
  {
   "cell_type": "code",
   "execution_count": 1,
   "metadata": {},
   "outputs": [],
   "source": [
    "from pyecharts import options as opts\n",
    "from pyecharts.charts import Bar\n",
    "from pyecharts.charts import Line\n",
    "from pyecharts.components import Table\n",
    "from pyecharts.charts import WordCloud\n",
    "from pyecharts.charts import Pie\n",
    "from pyecharts.charts import Funnel\n",
    "from pyecharts.charts import Scatter\n",
    "from pyecharts.charts import PictorialBar\n",
    "from pyecharts.options import ComponentTitleOpts\n",
    "from pyecharts.globals import SymbolType\n",
    "import json"
   ]
  },
  {
   "cell_type": "markdown",
   "metadata": {},
   "source": [
    "### 1.画出每日的累计确诊病例数和死亡数——>双柱状图"
   ]
  },
  {
   "cell_type": "code",
   "execution_count": 4,
   "metadata": {},
   "outputs": [
    {
     "name": "stderr",
     "output_type": "stream",
     "text": [
      "D:\\Anaconda3\\lib\\site-packages\\pyecharts\\charts\\chart.py:14: PendingDeprecationWarning: pyecharts 所有图表类型将在 v1.9.0 版本开始强制使用 ChartItem 进行数据项配置 :)\n",
      "  super().__init__(init_opts=init_opts)\n"
     ]
    }
   ],
   "source": [
    "def drawChart_1(index):\n",
    "    root = \"./results/result\" + str(index) +\".json\"\n",
    "#     date = []\n",
    "#     cases = []\n",
    "#     deaths = []\n",
    "    res=[]\n",
    "    with open(root, 'r') as f:\n",
    "        while True:\n",
    "            line = f.readline()\n",
    "            if not line:                            # 到 EOF，返回空字符串，则终止循环\n",
    "                break\n",
    "            js = json.loads(line)\n",
    "            temp=[]\n",
    "            temp.append(str(js['date']))\n",
    "            temp.append(int(js['cases']))\n",
    "            temp.append(int(js['deaths']))\n",
    "            res.append(temp)\n",
    "    res1=sorted(res,key=lambda res:res[0])\n",
    "    d = (\n",
    "    Bar()\n",
    "    .add_xaxis([res1[i][0] for i in range(len(res1))])\n",
    "    .add_yaxis(\"累计确诊人数\", [res1[i][1] for i in range(len(res1))], stack=\"stack1\")\n",
    "    .add_yaxis(\"累计死亡人数\", [res1[i][2] for i in range(len(res1))], stack=\"stack1\")\n",
    "    .set_series_opts(label_opts=opts.LabelOpts(is_show=False))\n",
    "    .set_global_opts(title_opts=opts.TitleOpts(title=\"美国每日累计确诊和死亡人数\"))\n",
    "    .render(\"./show/result1.html\")\n",
    "    )\n",
    "\n",
    "drawChart_1(1)"
   ]
  },
  {
   "cell_type": "markdown",
   "metadata": {},
   "source": [
    "### 2.画出每日的新增确诊病例数和死亡数——>折线图"
   ]
  },
  {
   "cell_type": "code",
   "execution_count": 8,
   "metadata": {},
   "outputs": [
    {
     "name": "stderr",
     "output_type": "stream",
     "text": [
      "D:\\Anaconda3\\lib\\site-packages\\pyecharts\\charts\\chart.py:14: PendingDeprecationWarning: pyecharts 所有图表类型将在 v1.9.0 版本开始强制使用 ChartItem 进行数据项配置 :)\n",
      "  super().__init__(init_opts=init_opts)\n",
      "D:\\Anaconda3\\lib\\site-packages\\pyecharts\\charts\\chart.py:14: PendingDeprecationWarning: pyecharts 所有图表类型将在 v1.9.0 版本开始强制使用 ChartItem 进行数据项配置 :)\n",
      "  super().__init__(init_opts=init_opts)\n"
     ]
    }
   ],
   "source": [
    "#2.画出每日的新增确诊病例数和死亡数——>折线图\n",
    "def drawChart_2(index):\n",
    "    root = \"./results/result\" + str(index) +\".json\"\n",
    "    res=[]\n",
    "    with open(root, 'r') as f:\n",
    "        while True:\n",
    "            line = f.readline()\n",
    "            if not line:                            # 到 EOF，返回空字符串，则终止循环\n",
    "                break\n",
    "            js = json.loads(line)\n",
    "            temp=[]\n",
    "            temp.append(str(js['date']))\n",
    "            temp.append(int(js['caseIncrease']))\n",
    "            temp.append(int(js['deathIncrease']))\n",
    "            res.append(temp)\n",
    "    \n",
    "    res1=sorted(res,key=lambda res:res[0])\n",
    "    date=[res1[i][0] for i in range(len(res1))]\n",
    "    cases=[res1[i][1] for i in range(len(res1))]\n",
    "    deaths=[res1[i][2] for i in range(len(res1))]\n",
    "    \n",
    "    (\n",
    "    Line(init_opts=opts.InitOpts(width=\"1600px\", height=\"800px\"))\n",
    "    .add_xaxis(xaxis_data=date)\n",
    "    .add_yaxis(\n",
    "        series_name=\"新增确诊\",\n",
    "        y_axis=cases,\n",
    "        markpoint_opts=opts.MarkPointOpts(\n",
    "            data=[\n",
    "                opts.MarkPointItem(type_=\"max\", name=\"最大值\")\n",
    " \n",
    "            ]\n",
    "        ),\n",
    "        markline_opts=opts.MarkLineOpts(\n",
    "            data=[opts.MarkLineItem(type_=\"average\", name=\"平均值\")]\n",
    "        ),\n",
    "    )\n",
    "    .set_global_opts(\n",
    "        title_opts=opts.TitleOpts(title=\"美国每日新增确诊折线图\", subtitle=\"\"),\n",
    "        tooltip_opts=opts.TooltipOpts(trigger=\"axis\"),\n",
    "        toolbox_opts=opts.ToolboxOpts(is_show=True),\n",
    "        xaxis_opts=opts.AxisOpts(type_=\"category\", boundary_gap=False),\n",
    "    )\n",
    "    .render(\"./show/result2-1.html\")\n",
    "    )\n",
    "    (\n",
    "    Line(init_opts=opts.InitOpts(width=\"1600px\", height=\"800px\"))\n",
    "    .add_xaxis(xaxis_data=date)\n",
    "    .add_yaxis(\n",
    "        series_name=\"新增死亡\",\n",
    "        y_axis=deaths,\n",
    "        markpoint_opts=opts.MarkPointOpts(\n",
    "            data=[opts.MarkPointItem(type_=\"max\", name=\"最大值\")]\n",
    "        ),\n",
    "        markline_opts=opts.MarkLineOpts(\n",
    "            data=[\n",
    "                opts.MarkLineItem(type_=\"average\", name=\"平均值\"),\n",
    "                opts.MarkLineItem(symbol=\"none\", x=\"90%\", y=\"max\"),\n",
    "                opts.MarkLineItem(symbol=\"circle\", type_=\"max\", name=\"最高点\"),\n",
    "            ]\n",
    "        ),\n",
    "    )\n",
    "    .set_global_opts(\n",
    "        title_opts=opts.TitleOpts(title=\"美国每日新增死亡折线图\", subtitle=\"\"),\n",
    "        tooltip_opts=opts.TooltipOpts(trigger=\"axis\"),\n",
    "        toolbox_opts=opts.ToolboxOpts(is_show=True),\n",
    "        xaxis_opts=opts.AxisOpts(type_=\"category\", boundary_gap=False),\n",
    "    )\n",
    "    .render(\"./show/result2-2.html\")\n",
    "    )\n",
    "drawChart_2(2)"
   ]
  },
  {
   "cell_type": "markdown",
   "metadata": {},
   "source": [
    "### 3.画出截止5.19，美国各州累计确诊、死亡人数和病死率--->表格"
   ]
  },
  {
   "cell_type": "code",
   "execution_count": 9,
   "metadata": {},
   "outputs": [],
   "source": [
    "def drawChart_3(index):\n",
    "    root = \"./results/result\" + str(index) +\".json\"\n",
    "    allState = []\n",
    "    with open(root, 'r') as f:\n",
    "        while True:\n",
    "            line = f.readline()\n",
    "            if not line:                            # 到 EOF，返回空字符串，则终止循环\n",
    "                break\n",
    "            js = json.loads(line)\n",
    "            row = []\n",
    "            row.append(str(js['state']))\n",
    "            row.append(int(js['totalCases']))\n",
    "            row.append(int(js['totalDeaths']))\n",
    "            row.append(float(js['deathRate']))\n",
    "            allState.append(row)\n",
    " \n",
    "    table = Table()\n",
    " \n",
    "    headers = [\"State name\", \"Total cases\", \"Total deaths\", \"Death rate\"]\n",
    "    rows = allState\n",
    "    table.add(headers, rows)\n",
    "    table.set_global_opts(\n",
    "        title_opts=ComponentTitleOpts(title=\"美国各州疫情一览\", subtitle=\"\")\n",
    "    )\n",
    "    table.render(\"./show/result3.html\")\n",
    "drawChart_3(3)"
   ]
  },
  {
   "cell_type": "markdown",
   "metadata": {},
   "source": [
    "### 4.画出美国确诊最多的10个州——>词云图"
   ]
  },
  {
   "cell_type": "code",
   "execution_count": 11,
   "metadata": {},
   "outputs": [
    {
     "name": "stderr",
     "output_type": "stream",
     "text": [
      "D:\\Anaconda3\\lib\\site-packages\\pyecharts\\charts\\chart.py:14: PendingDeprecationWarning: pyecharts 所有图表类型将在 v1.9.0 版本开始强制使用 ChartItem 进行数据项配置 :)\n",
      "  super().__init__(init_opts=init_opts)\n"
     ]
    }
   ],
   "source": [
    "def drawChart_4(index):\n",
    "    root = \"./results/result\" + str(index) +\".json\"\n",
    "    data = []\n",
    "    with open(root, 'r') as f:\n",
    "        while True:\n",
    "            line = f.readline()\n",
    "            if not line:                            # 到 EOF，返回空字符串，则终止循环\n",
    "                break\n",
    "            js = json.loads(line)\n",
    "            row=(str(js['state']),int(js['totalCases']))\n",
    "            data.append(row)\n",
    " \n",
    "    c = (\n",
    "    WordCloud()\n",
    "    .add(\"\", data, word_size_range=[20, 100], shape=SymbolType.DIAMOND)\n",
    "    .set_global_opts(title_opts=opts.TitleOpts(title=\"美国各州确诊Top10\"))\n",
    "    .render(\"./show/result4.html\")\n",
    "    )\n",
    "drawChart_4(4)"
   ]
  },
  {
   "cell_type": "markdown",
   "metadata": {},
   "source": [
    "### 5.画出美国死亡最多的10个州——>象柱状图"
   ]
  },
  {
   "cell_type": "code",
   "execution_count": 13,
   "metadata": {},
   "outputs": [
    {
     "name": "stderr",
     "output_type": "stream",
     "text": [
      "D:\\Anaconda3\\lib\\site-packages\\pyecharts\\charts\\chart.py:14: PendingDeprecationWarning: pyecharts 所有图表类型将在 v1.9.0 版本开始强制使用 ChartItem 进行数据项配置 :)\n",
      "  super().__init__(init_opts=init_opts)\n"
     ]
    }
   ],
   "source": [
    "\n",
    "def drawChart_5(index):\n",
    "    root = \"./results/result\" + str(index) +\".json\"\n",
    "    state = []\n",
    "    totalDeath = []\n",
    "    with open(root, 'r') as f:\n",
    "        while True:\n",
    "            line = f.readline()\n",
    "            if not line:                            # 到 EOF，返回空字符串，则终止循环\n",
    "                break\n",
    "            js = json.loads(line)\n",
    "            state.insert(0,str(js['state']))\n",
    "            totalDeath.insert(0,int(js['totalDeaths']))\n",
    " \n",
    "    c = (\n",
    "    PictorialBar()\n",
    "    .add_xaxis(state)\n",
    "    .add_yaxis(\n",
    "        \"\",\n",
    "        totalDeath,\n",
    "        label_opts=opts.LabelOpts(is_show=False),\n",
    "        symbol_size=18,\n",
    "        symbol_repeat=\"fixed\",\n",
    "        symbol_offset=[0, 0],\n",
    "        is_symbol_clip=True,\n",
    "        symbol=SymbolType.ROUND_RECT,\n",
    "    )\n",
    "    .reversal_axis()\n",
    "    .set_global_opts(\n",
    "        title_opts=opts.TitleOpts(title=\"PictorialBar-美国各州死亡人数Top10\"),\n",
    "        xaxis_opts=opts.AxisOpts(is_show=False),\n",
    "        yaxis_opts=opts.AxisOpts(\n",
    "            axistick_opts=opts.AxisTickOpts(is_show=False),\n",
    "            axisline_opts=opts.AxisLineOpts(\n",
    "                linestyle_opts=opts.LineStyleOpts(opacity=0)\n",
    "            ),\n",
    "        ),\n",
    "    )\n",
    "    .render(\"./show/result5.html\")\n",
    "    )\n",
    "drawChart_5(5)"
   ]
  },
  {
   "cell_type": "markdown",
   "metadata": {},
   "source": [
    "### 6.找出美国确诊最少的10个州——>词云图"
   ]
  },
  {
   "cell_type": "code",
   "execution_count": 14,
   "metadata": {},
   "outputs": [
    {
     "name": "stderr",
     "output_type": "stream",
     "text": [
      "D:\\Anaconda3\\lib\\site-packages\\pyecharts\\charts\\chart.py:14: PendingDeprecationWarning: pyecharts 所有图表类型将在 v1.9.0 版本开始强制使用 ChartItem 进行数据项配置 :)\n",
      "  super().__init__(init_opts=init_opts)\n"
     ]
    }
   ],
   "source": [
    "\n",
    "def drawChart_6(index):\n",
    "    root = \"./results/result\" + str(index) +\".json\"\n",
    "    data = []\n",
    "    with open(root, 'r') as f:\n",
    "        while True:\n",
    "            line = f.readline()\n",
    "            if not line:                            # 到 EOF，返回空字符串，则终止循环\n",
    "                break\n",
    "            js = json.loads(line)\n",
    "            row=(str(js['state']),int(js['totalCases']))\n",
    "            data.append(row)\n",
    " \n",
    "    c = (\n",
    "    WordCloud()\n",
    "    .add(\"\", data, word_size_range=[100, 20], shape=SymbolType.DIAMOND)\n",
    "    .set_global_opts(title_opts=opts.TitleOpts(title=\"美国各州确诊最少的10个州\"))\n",
    "    .render(\"./show/result6.html\")\n",
    "    )\n",
    "drawChart_6(6)"
   ]
  },
  {
   "cell_type": "markdown",
   "metadata": {},
   "source": [
    "### 7.找出美国死亡最少的10个州——>漏斗图"
   ]
  },
  {
   "cell_type": "code",
   "execution_count": 15,
   "metadata": {},
   "outputs": [
    {
     "name": "stderr",
     "output_type": "stream",
     "text": [
      "D:\\Anaconda3\\lib\\site-packages\\pyecharts\\charts\\chart.py:14: PendingDeprecationWarning: pyecharts 所有图表类型将在 v1.9.0 版本开始强制使用 ChartItem 进行数据项配置 :)\n",
      "  super().__init__(init_opts=init_opts)\n"
     ]
    }
   ],
   "source": [
    "\n",
    "def drawChart_7(index):\n",
    "    root = \"./results/result\" + str(index) +\".json\"\n",
    "    data = []\n",
    "    with open(root, 'r') as f:\n",
    "        while True:\n",
    "            line = f.readline()\n",
    "            if not line:                            # 到 EOF，返回空字符串，则终止循环\n",
    "                break\n",
    "            js = json.loads(line)\n",
    "            data.insert(0,[str(js['state']),int(js['totalDeaths'])])\n",
    " \n",
    "    c = (\n",
    "    Funnel()\n",
    "    .add(\n",
    "        \"State\",\n",
    "        data,\n",
    "        sort_=\"ascending\",\n",
    "        label_opts=opts.LabelOpts(position=\"inside\"),\n",
    "    )\n",
    "    .set_global_opts(title_opts=opts.TitleOpts(title=\"\"))\n",
    "    .render(\"./show/result7.html\")\n",
    "    )\n",
    "drawChart_7(7)"
   ]
  },
  {
   "cell_type": "markdown",
   "metadata": {},
   "source": [
    "### 8.美国的病死率--->饼状图"
   ]
  },
  {
   "cell_type": "code",
   "execution_count": 16,
   "metadata": {},
   "outputs": [
    {
     "name": "stderr",
     "output_type": "stream",
     "text": [
      "D:\\Anaconda3\\lib\\site-packages\\pyecharts\\charts\\chart.py:14: PendingDeprecationWarning: pyecharts 所有图表类型将在 v1.9.0 版本开始强制使用 ChartItem 进行数据项配置 :)\n",
      "  super().__init__(init_opts=init_opts)\n"
     ]
    }
   ],
   "source": [
    "\n",
    "def drawChart_8(index):\n",
    "    root = \"./results/result\" + str(index) +\".json\"\n",
    "    values = []\n",
    "    with open(root, 'r') as f:\n",
    "        while True:\n",
    "            line = f.readline()\n",
    "            if not line:                            # 到 EOF，返回空字符串，则终止循环\n",
    "                break\n",
    "            js = json.loads(line)\n",
    "            if str(js['state'])==\"USA\":\n",
    "                values.append([\"Death(%)\",round(float(js['deathRate'])*100,2)])\n",
    "                values.append([\"No-Death(%)\",100-round(float(js['deathRate'])*100,2)])\n",
    "    c = (\n",
    "    Pie()\n",
    "    .add(\"\", values)\n",
    "    .set_colors([\"blcak\",\"orange\"])\n",
    "    .set_global_opts(title_opts=opts.TitleOpts(title=\"全美的病死率\"))\n",
    "    .set_series_opts(label_opts=opts.LabelOpts(formatter=\"{b}: {c}\"))\n",
    "    .render(\"./show/result8.html\")\n",
    "    )\n",
    "    \n",
    "drawChart_8(8)"
   ]
  },
  {
   "cell_type": "code",
   "execution_count": 17,
   "metadata": {},
   "outputs": [
    {
     "name": "stderr",
     "output_type": "stream",
     "text": [
      "D:\\Anaconda3\\lib\\site-packages\\pyecharts\\charts\\chart.py:14: PendingDeprecationWarning: pyecharts 所有图表类型将在 v1.9.0 版本开始强制使用 ChartItem 进行数据项配置 :)\n",
      "  super().__init__(init_opts=init_opts)\n",
      "D:\\Anaconda3\\lib\\site-packages\\pyecharts\\charts\\chart.py:14: PendingDeprecationWarning: pyecharts 所有图表类型将在 v1.9.0 版本开始强制使用 ChartItem 进行数据项配置 :)\n",
      "  super().__init__(init_opts=init_opts)\n",
      "D:\\Anaconda3\\lib\\site-packages\\pyecharts\\charts\\chart.py:14: PendingDeprecationWarning: pyecharts 所有图表类型将在 v1.9.0 版本开始强制使用 ChartItem 进行数据项配置 :)\n",
      "  super().__init__(init_opts=init_opts)\n",
      "D:\\Anaconda3\\lib\\site-packages\\pyecharts\\charts\\chart.py:14: PendingDeprecationWarning: pyecharts 所有图表类型将在 v1.9.0 版本开始强制使用 ChartItem 进行数据项配置 :)\n",
      "  super().__init__(init_opts=init_opts)\n",
      "D:\\Anaconda3\\lib\\site-packages\\pyecharts\\charts\\chart.py:14: PendingDeprecationWarning: pyecharts 所有图表类型将在 v1.9.0 版本开始强制使用 ChartItem 进行数据项配置 :)\n",
      "  super().__init__(init_opts=init_opts)\n",
      "D:\\Anaconda3\\lib\\site-packages\\pyecharts\\charts\\chart.py:14: PendingDeprecationWarning: pyecharts 所有图表类型将在 v1.9.0 版本开始强制使用 ChartItem 进行数据项配置 :)\n",
      "  super().__init__(init_opts=init_opts)\n",
      "D:\\Anaconda3\\lib\\site-packages\\pyecharts\\charts\\chart.py:14: PendingDeprecationWarning: pyecharts 所有图表类型将在 v1.9.0 版本开始强制使用 ChartItem 进行数据项配置 :)\n",
      "  super().__init__(init_opts=init_opts)\n",
      "D:\\Anaconda3\\lib\\site-packages\\pyecharts\\charts\\chart.py:14: PendingDeprecationWarning: pyecharts 所有图表类型将在 v1.9.0 版本开始强制使用 ChartItem 进行数据项配置 :)\n",
      "  super().__init__(init_opts=init_opts)\n"
     ]
    }
   ],
   "source": [
    "#可视化主程序：\n",
    "index = 1\n",
    "while index<9:\n",
    "    funcStr = \"drawChart_\" + str(index)\n",
    "    eval(funcStr)(index)\n",
    "    index+=1"
   ]
  },
  {
   "cell_type": "code",
   "execution_count": null,
   "metadata": {},
   "outputs": [],
   "source": []
  }
 ],
 "metadata": {
  "kernelspec": {
   "display_name": "Python 3",
   "language": "python",
   "name": "python3"
  },
  "language_info": {
   "codemirror_mode": {
    "name": "ipython",
    "version": 3
   },
   "file_extension": ".py",
   "mimetype": "text/x-python",
   "name": "python",
   "nbconvert_exporter": "python",
   "pygments_lexer": "ipython3",
   "version": "3.7.1"
  }
 },
 "nbformat": 4,
 "nbformat_minor": 2
}
